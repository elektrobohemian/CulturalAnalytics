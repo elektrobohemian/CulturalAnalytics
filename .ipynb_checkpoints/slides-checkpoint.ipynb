{
 "cells": [
  {
   "cell_type": "code",
   "execution_count": 7,
   "metadata": {
    "collapsed": false,
    "slideshow": {
     "slide_type": "skip"
    }
   },
   "outputs": [
    {
     "name": "stdout",
     "output_type": "stream",
     "text": [
      "Populating the interactive namespace from numpy and matplotlib\n"
     ]
    }
   ],
   "source": [
    "%pylab inline"
   ]
  },
  {
   "cell_type": "markdown",
   "metadata": {
    "slideshow": {
     "slide_type": "slide"
    }
   },
   "source": [
    "# Decomposing Classification For Mixture Models\n",
    "By Kyle Cranmer, May 2015\n",
    "@kylecranmer\n",
    "\n",
    "A few slides related to Section 5.4 of *Approximating Likelihood Ratios with Calibrated Discriminative Classifiers*, \n",
    "http://arxiv.org/abs/1506.02169\n",
    "\n",
    "[![CC BY](https://i.creativecommons.org/l/by/4.0/88x31.png)](https://creativecommons.org/licenses/by/4.0/)"
   ]
  },
  {
   "cell_type": "markdown",
   "metadata": {
    "slideshow": {
     "slide_type": "slide"
    }
   },
   "source": [
    "# Introduction\n",
    "\n",
    "We consider the situation where you want to train a classifier between two different classes of events, and each  class of events is generated from a mixture model\n",
    "\n",
    "\\begin{equation}\n",
    "p(x|\\theta)=\\sum_c w_c(\\theta) p_c(x| \\theta) \\;,\n",
    "\\end{equation}\n",
    "\n",
    "where $x$ is a high-dimensional feature vector, the index $c$ represents different classes of events with corresponding mixture coefficient $w_c(\\theta)$ and probability distribution $p_c(x|\\theta)$. \n",
    "\n"
   ]
  },
  {
   "cell_type": "markdown",
   "metadata": {
    "slideshow": {
     "slide_type": "fragment"
    }
   },
   "source": [
    "Our goal is to train a classifier to discriminate between $p(x|\\theta_0)$ and $p(x|\\theta_1)$."
   ]
  },
  {
   "cell_type": "markdown",
   "metadata": {
    "slideshow": {
     "slide_type": "fragment"
    }
   },
   "source": [
    "We are considering the situation that both the coefficients and the distributions are parametrized by $\\theta$, which may have several components. "
   ]
  },
  {
   "cell_type": "markdown",
   "metadata": {
    "slideshow": {
     "slide_type": "fragment"
    }
   },
   "source": [
    "Special case: the mixture coefficents are not really functions of $\\theta$. This can be accomodated by this formalism by identifying one of the components of $\\theta$ with the mixture coefficient, i.e. $w_c(\\theta) = \\theta_i$ "
   ]
  },
  {
   "cell_type": "markdown",
   "metadata": {
    "slideshow": {
     "slide_type": "fragment"
    }
   },
   "source": [
    "Special case: the component distributions don't depend on $\\theta$, i.e. $p_c(x|\\theta) = p_c(x)$ "
   ]
  },
  {
   "cell_type": "markdown",
   "metadata": {
    "slideshow": {
     "slide_type": "slide"
    }
   },
   "source": [
    "# The problem\n",
    "\n",
    "The simplest thing we can do is:\n",
    "\n",
    "  1. Generate training data $\\{(x,y=0)\\}$ from $p(x|\\theta_0)$ and $\\{(x,y=1)\\}$ from $p(x|\\theta_1)$, where $y$ is the class label\n",
    "  1. Train classifier based on this training data\n",
    "  \n",
    "\n"
   ]
  },
  {
   "cell_type": "markdown",
   "metadata": {
    "slideshow": {
     "slide_type": "fragment"
    }
   },
   "source": [
    "This is fine, but if the difference between  $p(x|\\theta_0)$ and $p(x|\\theta_1)$ is due to a component with a small $w_c$, then most of the training examples do not focus on the relevant difference between the two classes."
   ]
  },
  {
   "cell_type": "markdown",
   "metadata": {
    "slideshow": {
     "slide_type": "slide"
    }
   },
   "source": [
    "# An example\n",
    "\n",
    "In particle physics, often one model is the *background-only* hypothesis\n",
    "  * $p(x|\\theta_0) = p_b(x)$ is the only component\n",
    "  \n",
    "the other  is the *signal-plus-background* hypothesis, \n",
    "   * $p(x|\\theta_1) = w_s p_s(x) + (1-w_s) p_b(x)$\n",
    "\n",
    "and $w_s$ is very small.\n",
    "\n"
   ]
  },
  {
   "cell_type": "markdown",
   "metadata": {
    "slideshow": {
     "slide_type": "fragment"
    }
   },
   "source": [
    "## Capacity Focusing Technique\n",
    "\n",
    "In order to focus the capacity of the classifier on the relevant regions of $x$, the classifier is not trained to distinguish $p(x|\\theta_0)$ vs. $p(x|\\theta_1)$. \n",
    "\n",
    "Instead, a classifier is trained to distinguish $p_b(x)$ vs. $p_s(x)$.\n",
    "\n",
    "This works because the likleihood ratio $p_s(x)/p_b(x)$ is 1-to-1 with $p(x|\\theta_0)/p(x|\\theta_1)$. \n"
   ]
  },
  {
   "cell_type": "markdown",
   "metadata": {
    "slideshow": {
     "slide_type": "slide"
    }
   },
   "source": [
    "# Decomposing the classification \n",
    "\n",
    "We can generalize this capacity focusing technique to comparisons of mixture models, by rewriting the desired likelihood ratio"
   ]
  },
  {
   "cell_type": "markdown",
   "metadata": {
    "slideshow": {
     "slide_type": "skip"
    }
   },
   "source": [
    "\\begin{eqnarray}\n",
    "\\frac{p(x|\\theta_0)}{p(x|\\theta_1)} & =& \\frac{\\sum_c w_c(\\theta_0) p_c(x| \\theta_0)}{\\sum_{c'} w_{c'}(\\theta_1) p_{c'}(x| \\theta_1)} \n",
    "\\\\\n",
    "%&=& \\sum_c \\frac{ w_c(\\theta_0) p_c(x| \\theta_0)}{\\sum_{c'} w_{c'}(\\theta_1) p_{c'}(x| \\theta_1)} \\\\\n",
    "%&=& \\sum_c \\left[ \\frac{\\sum_{c'} w_{c'}(\\theta_1) p_{c'}(x| \\theta_1)}{ w_c(\\theta_0) p_c(x| \\theta_0)}  \\right]^{-1} \\\\\n",
    "&=& \\sum_c \\left[ \\sum_{c'} \\frac{ w_{c'}(\\theta_1)}{w_c(\\theta_0)} \\frac{ p_{c'}(x| \\theta_1)}{  p_c(x| \\theta_0)}  \\right]^{-1} \\\\\n",
    "&=& \\sum_c \\left[ \\sum_{c'} \\frac{ w_{c'}(\\theta_1)}{w_c(\\theta_0)} \\frac{ p_{c'}(s_{c,c',\\theta_0, \\theta_1}| \\theta_1)}{ p_c(s_{c,c',\\theta_0, \\theta_1}| \\theta_0)}  \\right]^{-1} \n",
    "\\end{eqnarray}\n",
    "\n"
   ]
  },
  {
   "cell_type": "markdown",
   "metadata": {
    "slideshow": {
     "slide_type": "fragment"
    }
   },
   "source": [
    "\\begin{eqnarray}\n",
    "\\frac{p(x|\\theta_0)}{p(x|\\theta_1)} & =& \\frac{\\sum_c w_c(\\theta_0) p_c(x| \\theta_0)}{\\sum_{c'} w_{c'}(\\theta_1) p_{c'}(x| \\theta_1)} \n",
    "\\\\\n",
    "&=& \\sum_c \\left[ \\sum_{c'} \\frac{ w_{c'}(\\theta_1)}{w_c(\\theta_0)} \\frac{ p_{c'}(x| \\theta_1)}{  p_c(x| \\theta_0)}  \\right]^{-1} \\\\\n",
    "%&=& \\sum_c \\left[ \\sum_{c'} \\frac{ w_{c'}(\\theta_1)}{w_c(\\theta_0)} \\frac{ p_{c'}(s_{c,c',\\theta_0, \\theta_1}| \\theta_1)}{ p_c(s_{c,c',\\theta_0, \\theta_1}| \\theta_0)}  \\right]^{-1} \n",
    "\\end{eqnarray}\n",
    "\n",
    "\n"
   ]
  },
  {
   "cell_type": "markdown",
   "metadata": {
    "slideshow": {
     "slide_type": "fragment"
    }
   },
   "source": [
    "The second line is a trivial, but useful decomposition into pair-wise classification between $p_{c'}(x|\\theta_1)$ and $p_c(x|\\theta_0)$.  \n",
    "\n",
    "\n"
   ]
  },
  {
   "cell_type": "markdown",
   "metadata": {
    "slideshow": {
     "slide_type": "fragment"
    }
   },
   "source": [
    "In the situation where the only free parameters of the mixture model are the coefficients $w_c$, then the distributions $p_{c}(s_{c,c',\\theta_0, \\theta_1}| \\theta)$ are independent of $\\theta$ and can be pre-computed (after training the discriminative classifier, but before performing the generalized likelihood ratio test). \n",
    "\n"
   ]
  },
  {
   "cell_type": "markdown",
   "metadata": {
    "slideshow": {
     "slide_type": "slide"
    }
   },
   "source": [
    "# Demonstration\n",
    "\n",
    "Consider these three distributions for the components"
   ]
  },
  {
   "cell_type": "code",
   "execution_count": 8,
   "metadata": {
    "collapsed": true,
    "slideshow": {
     "slide_type": "fragment"
    }
   },
   "outputs": [],
   "source": [
    "def f0(x):\n",
    "    return np.exp(x*-1)\n",
    "def f1(x):\n",
    "    return np.cos(x)**2+.01\n",
    "def f2(x):\n",
    "    return np.exp(-(x-2)**2/2)\n",
    "fs = [f0, f1, f2]"
   ]
  },
  {
   "cell_type": "markdown",
   "metadata": {
    "slideshow": {
     "slide_type": "fragment"
    }
   },
   "source": [
    "with these mixture coefficients"
   ]
  },
  {
   "cell_type": "code",
   "execution_count": 9,
   "metadata": {
    "collapsed": true,
    "slideshow": {
     "slide_type": "fragment"
    }
   },
   "outputs": [],
   "source": [
    "w0 = [.1,.2,.7]\n",
    "w1 = [.2,.5,.3]"
   ]
  },
  {
   "cell_type": "markdown",
   "metadata": {
    "slideshow": {
     "slide_type": "fragment"
    }
   },
   "source": [
    "Corresponding to the two mixture models"
   ]
  },
  {
   "cell_type": "code",
   "execution_count": 51,
   "metadata": {
    "collapsed": true
   },
   "outputs": [],
   "source": [
    "def F0(x):\n",
    "    sum = 0.\n",
    "    for w, f in zip(w0, fs):\n",
    "        sum += w*f(x)\n",
    "    return sum\n",
    "def F1(x):\n",
    "    sum = 0.\n",
    "    for w, f in zip(w1, fs):\n",
    "        sum+= w*f(x)\n",
    "    return sum"
   ]
  },
  {
   "cell_type": "markdown",
   "metadata": {
    "slideshow": {
     "slide_type": "slide"
    }
   },
   "source": [
    "# Visualization of the models"
   ]
  },
  {
   "cell_type": "code",
   "execution_count": 52,
   "metadata": {
    "collapsed": true
   },
   "outputs": [],
   "source": [
    "xarray = np.linspace(0,5,100)"
   ]
  },
  {
   "cell_type": "code",
   "execution_count": 53,
   "metadata": {
    "collapsed": false
   },
   "outputs": [
    {
     "data": {
      "text/plain": [
       "[<matplotlib.lines.Line2D at 0x10727ee50>]"
      ]
     },
     "execution_count": 53,
     "metadata": {},
     "output_type": "execute_result"
    },
    {
     "data": {
      "image/png": "[encoded data removed]",
      "text/plain": [
       "<matplotlib.figure.Figure at 0x1071da710>"
      ]
     },
     "metadata": {},
     "output_type": "display_data"
    }
   ],
   "source": [
    "plt.plot(xarray,f0(xarray), c='r', ls='--')\n",
    "plt.plot(xarray,f1(xarray), c='y', ls='--')\n",
    "plt.plot(xarray,f2(xarray), c='orange', ls='--')\n",
    "plt.plot(xarray,F0(xarray), c='black', ls='-', lw=2)\n",
    "plt.plot(xarray,F1(xarray), c='b', ls='-', lw=2)"
   ]
  },
  {
   "cell_type": "markdown",
   "metadata": {
    "slideshow": {
     "slide_type": "slide"
    }
   },
   "source": [
    "# Visualization of the target likleihood ratio\n"
   ]
  },
  {
   "cell_type": "code",
   "execution_count": 54,
   "metadata": {
    "collapsed": false
   },
   "outputs": [
    {
     "data": {
      "text/plain": [
       "<matplotlib.text.Text at 0x10701ae90>"
      ]
     },
     "execution_count": 54,
     "metadata": {},
     "output_type": "execute_result"
    },
    {
     "data": {
      "image/png": "[encoded data removed]",
      "text/plain": [
       "<matplotlib.figure.Figure at 0x107250bd0>"
      ]
     },
     "metadata": {},
     "output_type": "display_data"
    }
   ],
   "source": [
    "plt.plot(xarray,F0(xarray)/F1(xarray))\n",
    "plt.xlabel('x')\n",
    "plt.ylabel('$F_0(x)/F_1(x)$')"
   ]
  },
  {
   "cell_type": "markdown",
   "metadata": {
    "slideshow": {
     "slide_type": "slide"
    }
   },
   "source": [
    "# Construction of the decomposed ratio\n",
    "\n",
    "Recall the equation\n",
    "\n",
    "\\begin{eqnarray}\n",
    "\\frac{p(x|\\theta_0)}{p(x|\\theta_1)} & =& \\frac{\\sum_c w_c(\\theta_0) p_c(x| \\theta_0)}{\\sum_{c'} w_{c'}(\\theta_1) p_{c'}(x| \\theta_1)} \n",
    "\\\\\n",
    "&=& \\sum_c \\left[ \\sum_{c'} \\frac{ w_{c'}(\\theta_1)}{w_c(\\theta_0)} \\frac{ p_{c'}(x| \\theta_1)}{  p_c(x| \\theta_0)}  \\right]^{-1} \\\\\n",
    "%&=& \\sum_c \\left[ \\sum_{c'} \\frac{ w_{c'}(\\theta_1)}{w_c(\\theta_0)} \\frac{ p_{c'}(s_{c,c',\\theta_0, \\theta_1}| \\theta_1)}{ p_c(s_{c,c',\\theta_0, \\theta_1}| \\theta_0)}  \\right]^{-1} \n",
    "\\end{eqnarray}\n",
    "\n"
   ]
  },
  {
   "cell_type": "code",
   "execution_count": 55,
   "metadata": {
    "collapsed": false
   },
   "outputs": [],
   "source": [
    "def altRatio(x):\n",
    "    sum = 0.\n",
    "    for i,w in enumerate(w0):\n",
    "        if(w==0):\n",
    "            continue\n",
    "        innerSum = 0.\n",
    "        for j,wp in enumerate(w1):\n",
    "            innerSum+= wp/w*fs[j](x)/fs[i](x)\n",
    "        sum+=1./innerSum\n",
    "    return sum\n"
   ]
  },
  {
   "cell_type": "markdown",
   "metadata": {
    "slideshow": {
     "slide_type": "slide"
    }
   },
   "source": [
    "# Visualization of the pair-wise comparisons"
   ]
  },
  {
   "cell_type": "code",
   "execution_count": 56,
   "metadata": {
    "collapsed": false
   },
   "outputs": [
    {
     "data": {
      "text/plain": [
       "<matplotlib.text.Text at 0x10742b0d0>"
      ]
     },
     "execution_count": 56,
     "metadata": {},
     "output_type": "execute_result"
    },
    {
     "data": {
      "image/png": "[encoded data removed]",
      "text/plain": [
       "<matplotlib.figure.Figure at 0x107027050>"
      ]
     },
     "metadata": {},
     "output_type": "display_data"
    }
   ],
   "source": [
    "plt.plot(xarray,fs[0](xarray)/fs[1](xarray), c='r')\n",
    "plt.plot(xarray,fs[0](xarray)/fs[2](xarray), c='orange')\n",
    "plt.plot(xarray,fs[1](xarray)/fs[2](xarray), c='y')\n",
    "plt.xlabel('x')\n",
    "plt.ylabel('$f_i(x)/f_j(x)$')"
   ]
  },
  {
   "cell_type": "markdown",
   "metadata": {
    "slideshow": {
     "slide_type": "slide"
    }
   },
   "source": [
    "# Comparison of the original and decomposed ratio\n",
    "\n",
    "*It works!*"
   ]
  },
  {
   "cell_type": "code",
   "execution_count": 57,
   "metadata": {
    "collapsed": false
   },
   "outputs": [
    {
     "data": {
      "text/plain": [
       "<matplotlib.text.Text at 0x107012bd0>"
      ]
     },
     "execution_count": 57,
     "metadata": {},
     "output_type": "execute_result"
    },
    {
     "data": {
      "image/png": "[encoded data removed]",
      "text/plain": [
       "<matplotlib.figure.Figure at 0x1070ffd50>"
      ]
     },
     "metadata": {},
     "output_type": "display_data"
    }
   ],
   "source": [
    "plt.plot(xarray,F0(xarray)/F1(xarray))\n",
    "plt.plot(xarray,altRatio(xarray), ls='--', c='r', lw=2)\n",
    "plt.xlabel('x')\n",
    "plt.ylabel('$F_0(x)/F_1(x)$')"
   ]
  },
  {
   "cell_type": "markdown",
   "metadata": {
    "slideshow": {
     "slide_type": "slide"
    }
   },
   "source": [
    "# Going further\n",
    "\n",
    "\n"
   ]
  },
  {
   "cell_type": "markdown",
   "metadata": {
    "slideshow": {
     "slide_type": "fragment"
    }
   },
   "source": [
    "So far what we showed was a numerical example of a simple re-writing of the target likelihood ratio.\n",
    "When $x$ is high-dimensional we usually can't evaluate $p_c(x|\\theta)$.  \n",
    "\n"
   ]
  },
  {
   "cell_type": "markdown",
   "metadata": {
    "slideshow": {
     "slide_type": "fragment"
    }
   },
   "source": [
    "However, we can use Theorem 1 from [arxiv:1506.02169]( http://arxiv.org/abs/1506.02169) to relate the high-dimensional likelihood ratio into an equivalent calibrated likelihood ratio based on the univariate density of the corresponding classifier, denoted $s_{c,c',\\theta_0, \\theta_1}$. \n",
    "\n",
    "\\begin{eqnarray}\n",
    "\\frac{p(x|\\theta_0)}{p(x|\\theta_1)} & =& \\frac{\\sum_c w_c(\\theta_0) p_c(x| \\theta_0)}{\\sum_{c'} w_{c'}(\\theta_1) p_{c'}(x| \\theta_1)} \n",
    "\\\\\n",
    "&=& \\sum_c \\left[ \\sum_{c'} \\frac{ w_{c'}(\\theta_1)}{w_c(\\theta_0)} \\frac{ p_{c'}(x| \\theta_1)}{  p_c(x| \\theta_0)}  \\right]^{-1} \\\\\n",
    "&=& \\sum_c \\left[ \\sum_{c'} \\frac{ w_{c'}(\\theta_1)}{w_c(\\theta_0)} \\frac{ p_{c'}(s_{c,c',\\theta_0, \\theta_1}| \\theta_1)}{ p_c(s_{c,c',\\theta_0, \\theta_1}| \\theta_0)}  \\right]^{-1} \n",
    "\\end{eqnarray}\n"
   ]
  },
  {
   "cell_type": "markdown",
   "metadata": {
    "slideshow": {
     "slide_type": "slide"
    }
   },
   "source": [
    "# Technical notes"
   ]
  },
  {
   "cell_type": "markdown",
   "metadata": {},
   "source": [
    "These slides were made with IPython3 and Project Jupyter's nbconvert. \n",
    "The notebook is [here](https://github.com/cranmer/parametrized-learning/blob/master/DecomposingTestsOfMixtureModels.ipynb).\n",
    "\n",
    "Local development was based on\n",
    "`ipython nbconvert --to slides DecomposingTestsOfMixtureModels.ipynb --post serve`\n",
    "\n",
    "Once I was happy, \n",
    "` ipython nbconvert --to slides DecomposingTestsOfMixtureModels.ipynb  --reveal-prefix https://cdn.jsdelivr.net/reveal.js/2.6.2`\n",
    "\n",
    "Double check with\n",
    "`python -m SimpleHTTPServer 8000`\n",
    "\n",
    "and then I put the resulting ` DecomposingTestsOfMixtureModels.slides.html` on my web server.\n",
    "\n",
    "Note, you can also point nbviewer directly to the notebook and [view them as slides](http://nbviewer.ipython.org/format/slides/github/cranmer/parametrized-learning/tree/master/DecomposingTestsOfMixtureModels.ipynb#/)"
   ]
  },
  {
   "cell_type": "code",
   "execution_count": null,
   "metadata": {
    "collapsed": true
   },
   "outputs": [],
   "source": []
  }
 ],
 "metadata": {
  "celltoolbar": "Slideshow",
  "kernelspec": {
   "display_name": "Python 2",
   "language": "python",
   "name": "python2"
  },
  "language_info": {
   "codemirror_mode": {
    "name": "ipython",
    "version": 2
   },
   "file_extension": ".py",
   "mimetype": "text/x-python",
   "name": "python",
   "nbconvert_exporter": "python",
   "pygments_lexer": "ipython2",
   "version": "2.7.11"
  }
 },
 "nbformat": 4,
 "nbformat_minor": 0
}
