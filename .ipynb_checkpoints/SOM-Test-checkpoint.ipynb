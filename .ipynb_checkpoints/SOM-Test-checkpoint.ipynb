{
 "cells": [
  {
   "cell_type": "code",
   "execution_count": 1,
   "metadata": {},
   "outputs": [
    {
     "name": "stdout",
     "output_type": "stream",
     "text": [
      "Collecting kohonen\n",
      "  Downloading kohonen-1.1.2.tar.gz\n",
      "Requirement already satisfied (use --upgrade to upgrade): numpy in /anaconda/lib/python2.7/site-packages (from kohonen)\n",
      "Building wheels for collected packages: kohonen\n",
      "  Running setup.py bdist_wheel for kohonen\n",
      "  Stored in directory: /Users/david/Library/Caches/pip/wheels/4a/47/b7/4a1c08de50a2942a570ad7e6f6efb28a9f326aeedc8439bfe2\n",
      "Successfully built kohonen\n",
      "Installing collected packages: kohonen\n",
      "Successfully installed kohonen-1.1.2\n"
     ]
    }
   ],
   "source": [
    "!pip install kohonen"
   ]
  },
  {
   "cell_type": "code",
   "execution_count": 18,
   "metadata": {
    "collapsed": true
   },
   "outputs": [],
   "source": [
    "import kohonen as SOM\n",
    "import numpy as np\n",
    "from pandas import DataFrame"
   ]
  },
  {
   "cell_type": "code",
   "execution_count": 16,
   "metadata": {},
   "outputs": [],
   "source": [
    "x = np.array([[1, 2, 3], [4, 5, 6], [9, 9, 9]], np.int32)\n",
    "df = DataFrame(data=x)"
   ]
  },
  {
   "cell_type": "code",
   "execution_count": 19,
   "metadata": {},
   "outputs": [
    {
     "ename": "AttributeError",
     "evalue": "'numpy.ndarray' object has no attribute 'dimension'",
     "output_type": "error",
     "traceback": [
      "\u001b[0;31m---------------------------------------------------------------------------\u001b[0m",
      "\u001b[0;31mAttributeError\u001b[0m                            Traceback (most recent call last)",
      "\u001b[0;32m<ipython-input-19-d8976a439706>\u001b[0m in \u001b[0;36m<module>\u001b[0;34m()\u001b[0m\n\u001b[0;32m----> 1\u001b[0;31m \u001b[0mmysom\u001b[0m\u001b[0;34m=\u001b[0m\u001b[0mSOM\u001b[0m\u001b[0;34m.\u001b[0m\u001b[0mMap\u001b[0m\u001b[0;34m(\u001b[0m\u001b[0mx\u001b[0m\u001b[0;34m)\u001b[0m\u001b[0;34m\u001b[0m\u001b[0m\n\u001b[0m",
      "\u001b[0;32m//anaconda/lib/python2.7/site-packages/kohonen/kohonen.pyc\u001b[0m in \u001b[0;36m__init__\u001b[0;34m(self, params)\u001b[0m\n\u001b[1;32m    376\u001b[0m         \u001b[0;34m'''Initialize this Map.'''\u001b[0m\u001b[0;34m\u001b[0m\u001b[0m\n\u001b[1;32m    377\u001b[0m         \u001b[0mself\u001b[0m\u001b[0;34m.\u001b[0m\u001b[0m_shape\u001b[0m \u001b[0;34m=\u001b[0m \u001b[0mparams\u001b[0m\u001b[0;34m.\u001b[0m\u001b[0mshape\u001b[0m\u001b[0;34m\u001b[0m\u001b[0m\n\u001b[0;32m--> 378\u001b[0;31m         \u001b[0mself\u001b[0m\u001b[0;34m.\u001b[0m\u001b[0mdimension\u001b[0m \u001b[0;34m=\u001b[0m \u001b[0mparams\u001b[0m\u001b[0;34m.\u001b[0m\u001b[0mdimension\u001b[0m\u001b[0;34m\u001b[0m\u001b[0m\n\u001b[0m\u001b[1;32m    379\u001b[0m         \u001b[0mself\u001b[0m\u001b[0;34m.\u001b[0m\u001b[0mneurons\u001b[0m \u001b[0;34m=\u001b[0m \u001b[0m_zeros\u001b[0m\u001b[0;34m(\u001b[0m\u001b[0mself\u001b[0m\u001b[0;34m.\u001b[0m\u001b[0mshape\u001b[0m \u001b[0;34m+\u001b[0m \u001b[0;34m(\u001b[0m\u001b[0mself\u001b[0m\u001b[0;34m.\u001b[0m\u001b[0mdimension\u001b[0m\u001b[0;34m,\u001b[0m \u001b[0;34m)\u001b[0m\u001b[0;34m)\u001b[0m\u001b[0;34m\u001b[0m\u001b[0m\n\u001b[1;32m    380\u001b[0m \u001b[0;34m\u001b[0m\u001b[0m\n",
      "\u001b[0;31mAttributeError\u001b[0m: 'numpy.ndarray' object has no attribute 'dimension'"
     ]
    }
   ],
   "source": [
    "mysom=SOM.Map(x)"
   ]
  },
  {
   "cell_type": "code",
   "execution_count": 24,
   "metadata": {},
   "outputs": [
    {
     "name": "stdout",
     "output_type": "stream",
     "text": [
      "Initialization...\n",
      "Training colors...\n",
      "Training Iteration: 1000/1000\n",
      "Saving Image: sompy_test_colors.png...\n"
     ]
    },
    {
     "name": "stderr",
     "output_type": "stream",
     "text": [
      "/anaconda/lib/python2.7/site-packages/ipykernel/__main__.py:54: DeprecationWarning: Implicitly casting between incompatible kinds. In a future numpy release, this will raise an error. Use casting=\"unsafe\" if this is intentional.\n"
     ]
    }
   ],
   "source": [
    "from __future__ import division\n",
    "\n",
    "## Kyle Dickerson\n",
    "## kyle.dickerson@gmail.com\n",
    "## Jan 15, 2008\n",
    "##\n",
    "## Self-organizing map using scipy\n",
    "## This code is licensed and released under the GNU GPL\n",
    "\n",
    "## This code uses a square grid rather than hexagonal grid, as scipy allows for fast square grid computation.\n",
    "## I designed sompy for speed, so attempting to read the code may not be very intuitive.\n",
    "## If you're trying to learn how SOMs work, I would suggest starting with Paras Chopras SOMPython code:\n",
    "##  http://www.paraschopra.com/sourcecode/SOM/index.php\n",
    "## It has a more intuitive structure for those unfamiliar with scipy, however it is much slower.\n",
    "\n",
    "## If you do use this code for something, please let me know, I'd like to know if has been useful to anyone.\n",
    "\n",
    "from random import *\n",
    "from math import *\n",
    "import sys\n",
    "import scipy\n",
    "\n",
    "class SOM:\n",
    "\n",
    "    def __init__(self, height=10, width=10, FV_size=10, learning_rate=0.005):\n",
    "        self.height = height\n",
    "        self.width = width\n",
    "        self.FV_size = FV_size\n",
    "        self.radius = (height+width)/3\n",
    "        self.learning_rate = learning_rate\n",
    "        self.nodes = scipy.array([[ [random()*255 for i in range(FV_size)] for x in range(width)] for y in range(height)])\n",
    "\n",
    "    # train_vector: [ FV0, FV1, FV2, ...] -> [ [...], [...], [...], ...]\n",
    "    # train vector may be a list, will be converted to a list of scipy arrays\n",
    "    def train(self, iterations=1000, train_vector=[[]]):\n",
    "        for t in range(len(train_vector)):\n",
    "            train_vector[t] = scipy.array(train_vector[t])\n",
    "        time_constant = iterations/log(self.radius)\n",
    "        delta_nodes = scipy.array([[[0 for i in range(self.FV_size)] for x in range(self.width)] for y in range(self.height)])\n",
    "        \n",
    "        for i in range(1, iterations+1):\n",
    "            delta_nodes.fill(0)\n",
    "            radius_decaying=self.radius*exp(-1.0*i/time_constant)\n",
    "            rad_div_val = 2 * radius_decaying * i\n",
    "            learning_rate_decaying=self.learning_rate*exp(-1.0*i/time_constant)\n",
    "            sys.stdout.write(\"\\rTraining Iteration: \" + str(i) + \"/\" + str(iterations))\n",
    "            \n",
    "            for j in range(len(train_vector)):\n",
    "                best = self.best_match(train_vector[j])\n",
    "                for loc in self.find_neighborhood(best, radius_decaying):\n",
    "                    influence = exp( (-1.0 * (loc[2]**2)) / rad_div_val)\n",
    "                    inf_lrd = influence*learning_rate_decaying\n",
    "                    \n",
    "                    delta_nodes[loc[0],loc[1]] += inf_lrd*(train_vector[j]-self.nodes[loc[0],loc[1]])\n",
    "            self.nodes += delta_nodes\n",
    "        sys.stdout.write(\"\\n\")\n",
    "    \n",
    "    # Returns a list of points which live within 'dist' of 'pt'\n",
    "    # Uses the Chessboard distance\n",
    "    # pt is (row, column)\n",
    "    def find_neighborhood(self, pt, dist):\n",
    "        min_y = max(int(pt[0] - dist), 0)\n",
    "        max_y = min(int(pt[0] + dist), self.height)\n",
    "        min_x = max(int(pt[1] - dist), 0)\n",
    "        max_x = min(int(pt[1] + dist), self.width)\n",
    "        neighbors = []\n",
    "        for y in range(min_y, max_y):\n",
    "            for x in range(min_x, max_x):\n",
    "                dist = abs(y-pt[0]) + abs(x-pt[1])\n",
    "                neighbors.append((y,x,dist))\n",
    "        return neighbors\n",
    "    \n",
    "    # Returns location of best match, uses Euclidean distance\n",
    "    # target_FV is a scipy array\n",
    "    def best_match(self, target_FV):\n",
    "        loc = scipy.argmin((((self.nodes - target_FV)**2).sum(axis=2))**0.5)\n",
    "        r = 0\n",
    "        while loc > self.width:\n",
    "            loc -= self.width\n",
    "            r += 1\n",
    "        c = loc\n",
    "        return (r, c)\n",
    "\n",
    "    # returns the Euclidean distance between two Feature Vectors\n",
    "    # FV_1, FV_2 are scipy arrays\n",
    "    def FV_distance(self, FV_1, FV_2):\n",
    "        return (sum((FV_1 - FV_2)**2))**0.5\n",
    "\n",
    "if __name__ == \"__main__\":\n",
    "    print \"Initialization...\"\n",
    "    colors = [ [0, 0, 0], [20, 20, 20], [50, 50, 50], [0, 0, 255], [0, 255, 0], [0, 255, 255], [255, 0, 0], [255, 0, 255], [255, 255, 0], [255, 255, 255]]\n",
    "    width = 32\n",
    "    height = 32\n",
    "    color_som = SOM(width,height,3,0.05)\n",
    "    print \"Training colors...\"\n",
    "    color_som.train(1000, colors)\n",
    "    try:\n",
    "        from PIL import Image\n",
    "        print \"Saving Image: sompy_test_colors.png...\"\n",
    "        img = Image.new(\"RGB\", (width, height))\n",
    "        for r in range(height):\n",
    "            for c in range(width):\n",
    "                img.putpixel((c,r), (int(color_som.nodes[r,c,0]), int(color_som.nodes[r,c,1]), int(color_som.nodes[r,c,2])))\n",
    "        img = img.resize((width*10, height*10),Image.NEAREST)\n",
    "        img.save(\"sompy_test_colors.png\")\n",
    "    except:\n",
    "        print \"Error saving the image, do you have PIL (Python Imaging Library) installed?\""
   ]
  },
  {
   "cell_type": "code",
   "execution_count": null,
   "metadata": {
    "collapsed": true
   },
   "outputs": [],
   "source": []
  }
 ],
 "metadata": {
  "kernelspec": {
   "display_name": "Python 3",
   "language": "python",
   "name": "python3"
  },
  "language_info": {
   "codemirror_mode": {
    "name": "ipython",
    "version": 3
   },
   "file_extension": ".py",
   "mimetype": "text/x-python",
   "name": "python",
   "nbconvert_exporter": "python",
   "pygments_lexer": "ipython3",
   "version": "3.6.6"
  }
 },
 "nbformat": 4,
 "nbformat_minor": 1
}
