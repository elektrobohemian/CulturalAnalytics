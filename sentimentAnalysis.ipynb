{
 "cells": [
  {
   "cell_type": "markdown",
   "metadata": {},
   "source": [
    "# Sentiment Analysis on the Berlin State Library Catalog and Amazon\n",
    "\n",
    "## Motivation\n",
    "* In this tutorial, you will learn how to read from a unstructured and structured dataset, create a dataframe from this raw data, and to visualize characteristics from the data in order to find out whether the titles of a research library are truly neutral from a sentiment analysis perspective and how they compare to a sample from books sold by Amazon.\n",
    "\n",
    "* The sentiment analysis is based on two libraries: [TextBlob](https://textblob.readthedocs.io/en/dev/quickstart.html#sentiment-analysis) and [VADER](https://github.com/cjhutto/vaderSentiment) as part of [NLTK](https://www.nltk.org/).\n",
    "\n",
    "* You will learn to compare the results of both libraries.\n",
    "\n",
    "\n",
    "### Preparations and Prerequisities\n",
    "* This tutorial works on data created by the processPicaPlus script being part of the [StabiHacks](https://github.com/elektrobohemian/StabiHacks). For the sake of simplicity a basic data set is included.\n",
    "\n",
    "* You should have a basic understanding of Python and pandas dataframe structure.\n",
    "\n",
    "* We further assume that you already know how to install missing libraries with the help of pip or conda. However, we give advice on how to install some most likely missing libraries and corpora."
   ]
  },
  {
   "cell_type": "code",
   "execution_count": 2,
   "metadata": {},
   "outputs": [],
   "source": [
    "# The %... is an iPython thing, and is not part of the Python language.\n",
    "# In this case we're just telling the plotting library to draw things on\n",
    "# the notebook, instead of on a separate window.\n",
    "%matplotlib inline\n",
    "\n",
    "import numpy as np\n",
    "import scipy as sp\n",
    "import matplotlib as mpl\n",
    "import matplotlib.cm as cm\n",
    "import matplotlib.pyplot as plt\n",
    "import pandas as pd\n",
    "import time\n",
    "pd.set_option('display.width', 500)\n",
    "pd.set_option('display.max_columns', 100)\n",
    "pd.set_option('display.notebook_repr_html', True)\n",
    "# we will need fairly wide columns to display all text\n",
    "pd.set_option('max_colwidth', 250)\n",
    "import seaborn as sns\n",
    "sns.set_style(\"whitegrid\")\n",
    "sns.set_context(\"notebook\")\n",
    "#sns.set(font_scale=1.5)\n",
    "\n",
    "import csv\n",
    "from textblob import TextBlob\n"
   ]
  },
  {
   "cell_type": "markdown",
   "metadata": {},
   "source": [
    "Most likely, [TextBlobDE](https://github.com/markuskiller/textblob-de) will not be installed on your machine. The next two cells will setup the package and download possible missing corpora."
   ]
  },
  {
   "cell_type": "code",
   "execution_count": 3,
   "metadata": {},
   "outputs": [
    {
     "name": "stdout",
     "output_type": "stream",
     "text": [
      "Requirement already up-to-date: textblob-de in /anaconda3/lib/python3.6/site-packages (0.4.3)\r\n",
      "Requirement already satisfied, skipping upgrade: textblob>=0.9.0 in /anaconda3/lib/python3.6/site-packages (from textblob-de) (0.15.2)\r\n",
      "Requirement already satisfied, skipping upgrade: nltk>=3.1 in /anaconda3/lib/python3.6/site-packages (from textblob>=0.9.0->textblob-de) (3.4)\r\n",
      "Requirement already satisfied, skipping upgrade: six in /anaconda3/lib/python3.6/site-packages (from nltk>=3.1->textblob>=0.9.0->textblob-de) (1.12.0)\r\n",
      "Requirement already satisfied, skipping upgrade: singledispatch in /anaconda3/lib/python3.6/site-packages (from nltk>=3.1->textblob>=0.9.0->textblob-de) (3.4.0.3)\r\n"
     ]
    }
   ],
   "source": [
    "!pip install -U textblob-de"
   ]
  },
  {
   "cell_type": "code",
   "execution_count": 4,
   "metadata": {},
   "outputs": [
    {
     "name": "stdout",
     "output_type": "stream",
     "text": [
      "[nltk_data] Downloading package brown to /Users/david/nltk_data...\n",
      "[nltk_data]   Package brown is already up-to-date!\n",
      "[nltk_data] Downloading package punkt to /Users/david/nltk_data...\n",
      "[nltk_data]   Package punkt is already up-to-date!\n",
      "[nltk_data] Downloading package wordnet to /Users/david/nltk_data...\n",
      "[nltk_data]   Package wordnet is already up-to-date!\n",
      "[nltk_data] Downloading package averaged_perceptron_tagger to\n",
      "[nltk_data]     /Users/david/nltk_data...\n",
      "[nltk_data]   Package averaged_perceptron_tagger is already up-to-\n",
      "[nltk_data]       date!\n",
      "[nltk_data] Downloading package conll2000 to /Users/david/nltk_data...\n",
      "[nltk_data]   Package conll2000 is already up-to-date!\n",
      "[nltk_data] Downloading package movie_reviews to\n",
      "[nltk_data]     /Users/david/nltk_data...\n",
      "[nltk_data]   Package movie_reviews is already up-to-date!\n",
      "Finished.\n"
     ]
    }
   ],
   "source": [
    "!python -m textblob.download_corpora"
   ]
  },
  {
   "cell_type": "code",
   "execution_count": 5,
   "metadata": {},
   "outputs": [],
   "source": [
    "from textblob_de import TextBlobDE"
   ]
  },
  {
   "cell_type": "markdown",
   "metadata": {},
   "source": [
    "## Dataset Preparation I - The Berlin State Library Catalog\n",
    "\n",
    "The next cell takes the output from the processPicaPlus script and loads it into a dataframe.\n",
    "\n",
    "Depending on the size of the input file, the following creation of the dataframe for further analyzes will take some time."
   ]
  },
  {
   "cell_type": "code",
   "execution_count": 6,
   "metadata": {},
   "outputs": [],
   "source": [
    "# create a dictionary for the records\n",
    "values={\"ppn\":[],\"title\":[],\"sentiment_polarity\":[],\"sentiment_subjectivity\":[]}\n",
    "with open('./data/eng_out.txt.secret', newline='') as csvfile:\n",
    "    spamreader = csv.reader(csvfile, delimiter='\\t')\n",
    "    for row in spamreader:\n",
    "        # skip empty separator line\n",
    "        if row:\n",
    "            if not ppn:\n",
    "                ppn=row[0]\n",
    "            # check if we deal with a row containing a title\n",
    "            if row[1]==\"021A\":\n",
    "                # create a TextBlob from the medium's title\n",
    "                title=TextBlob(row[2])\n",
    "                values[\"ppn\"].append(ppn)\n",
    "                values[\"title\"].append(row[2])\n",
    "                # add the sentiment analysis results to the dataframe\n",
    "                values[\"sentiment_polarity\"].append(title.sentiment.polarity)\n",
    "                values[\"sentiment_subjectivity\"].append(title.sentiment.subjectivity)\n",
    "        else:\n",
    "            ppn=None\n",
    "df=pd.DataFrame(values)"
   ]
  },
  {
   "cell_type": "code",
   "execution_count": 7,
   "metadata": {},
   "outputs": [
    {
     "data": {
      "text/html": [
       "<div>\n",
       "<style scoped>\n",
       "    .dataframe tbody tr th:only-of-type {\n",
       "        vertical-align: middle;\n",
       "    }\n",
       "\n",
       "    .dataframe tbody tr th {\n",
       "        vertical-align: top;\n",
       "    }\n",
       "\n",
       "    .dataframe thead th {\n",
       "        text-align: right;\n",
       "    }\n",
       "</style>\n",
       "<table border=\"1\" class=\"dataframe\">\n",
       "  <thead>\n",
       "    <tr style=\"text-align: right;\">\n",
       "      <th></th>\n",
       "      <th>ppn</th>\n",
       "      <th>title</th>\n",
       "      <th>sentiment_polarity</th>\n",
       "      <th>sentiment_subjectivity</th>\n",
       "    </tr>\n",
       "  </thead>\n",
       "  <tbody>\n",
       "    <tr>\n",
       "      <th>0</th>\n",
       "      <td>0225904055</td>\n",
       "      <td>Publications of the Clark University Library</td>\n",
       "      <td>0.0</td>\n",
       "      <td>0.000</td>\n",
       "    </tr>\n",
       "    <tr>\n",
       "      <th>1</th>\n",
       "      <td>033174418X</td>\n",
       "      <td>APMIS</td>\n",
       "      <td>0.0</td>\n",
       "      <td>0.000</td>\n",
       "    </tr>\n",
       "    <tr>\n",
       "      <th>2</th>\n",
       "      <td>0374601534</td>\n",
       "      <td>Developments in Central and East European politics</td>\n",
       "      <td>0.0</td>\n",
       "      <td>0.125</td>\n",
       "    </tr>\n",
       "    <tr>\n",
       "      <th>3</th>\n",
       "      <td>0364441704</td>\n",
       "      <td>The Phoenix Award of the Children's Literature Association</td>\n",
       "      <td>0.0</td>\n",
       "      <td>0.000</td>\n",
       "    </tr>\n",
       "    <tr>\n",
       "      <th>4</th>\n",
       "      <td>0193162784</td>\n",
       "      <td>Couch on insurance 3d</td>\n",
       "      <td>0.0</td>\n",
       "      <td>0.000</td>\n",
       "    </tr>\n",
       "  </tbody>\n",
       "</table>\n",
       "</div>"
      ],
      "text/plain": [
       "          ppn                                                        title  sentiment_polarity  sentiment_subjectivity\n",
       "0  0225904055                Publications of the Clark University Library                  0.0                   0.000\n",
       "1  033174418X                                                       APMIS                  0.0                   0.000\n",
       "2  0374601534          Developments in Central and East European politics                  0.0                   0.125\n",
       "3  0364441704  The Phoenix Award of the Children's Literature Association                  0.0                   0.000\n",
       "4  0193162784                                       Couch on insurance 3d                  0.0                   0.000"
      ]
     },
     "execution_count": 7,
     "metadata": {},
     "output_type": "execute_result"
    }
   ],
   "source": [
    "df.head()"
   ]
  },
  {
   "cell_type": "markdown",
   "metadata": {},
   "source": [
    "## Analysis\n",
    "\n",
    "In the next step, you will visualise the distribution of the sentiment polarity and its subjectivity. The sentiment polarity is a score in the range [-1,1] that indicates whether a title's sentiment is negative or positive."
   ]
  },
  {
   "cell_type": "code",
   "execution_count": 8,
   "metadata": {},
   "outputs": [
    {
     "data": {
      "text/plain": [
       "<matplotlib.axes._subplots.AxesSubplot at 0x1a19dcc5c0>"
      ]
     },
     "execution_count": 8,
     "metadata": {},
     "output_type": "execute_result"
    },
    {
     "data": {
      "image/png": "[encoded data removed]",
      "text/plain": [
       "<Figure size 432x288 with 1 Axes>"
      ]
     },
     "metadata": {
      "needs_background": "light"
     },
     "output_type": "display_data"
    }
   ],
   "source": [
    "sns.boxplot(data=df)"
   ]
  },
  {
   "cell_type": "code",
   "execution_count": 9,
   "metadata": {},
   "outputs": [
    {
     "data": {
      "text/plain": [
       "array([[<matplotlib.axes._subplots.AxesSubplot object at 0x1a19e1d080>,\n",
       "        <matplotlib.axes._subplots.AxesSubplot object at 0x1a19e57b38>]],\n",
       "      dtype=object)"
      ]
     },
     "execution_count": 9,
     "metadata": {},
     "output_type": "execute_result"
    },
    {
     "data": {
      "image/png": "[encoded data removed]",
      "text/plain": [
       "<Figure size 432x288 with 2 Axes>"
      ]
     },
     "metadata": {
      "needs_background": "light"
     },
     "output_type": "display_data"
    }
   ],
   "source": [
    "df.hist()"
   ]
  },
  {
   "cell_type": "markdown",
   "metadata": {},
   "source": [
    "## Dataset Preparation II - The Amazon Books Dataset\n",
    "\n",
    "The following book dataset can be obtained [here](https://github.com/uchidalab/book-dataset).\n",
    "\n",
    "As the dataset comes in the structured CSV format, its loading is pretty straight-forward."
   ]
  },
  {
   "cell_type": "code",
   "execution_count": 10,
   "metadata": {},
   "outputs": [
    {
     "data": {
      "text/html": [
       "<div>\n",
       "<style scoped>\n",
       "    .dataframe tbody tr th:only-of-type {\n",
       "        vertical-align: middle;\n",
       "    }\n",
       "\n",
       "    .dataframe tbody tr th {\n",
       "        vertical-align: top;\n",
       "    }\n",
       "\n",
       "    .dataframe thead th {\n",
       "        text-align: right;\n",
       "    }\n",
       "</style>\n",
       "<table border=\"1\" class=\"dataframe\">\n",
       "  <thead>\n",
       "    <tr style=\"text-align: right;\">\n",
       "      <th></th>\n",
       "      <th>0</th>\n",
       "      <th>1</th>\n",
       "      <th>2</th>\n",
       "      <th>3</th>\n",
       "      <th>4</th>\n",
       "      <th>5</th>\n",
       "      <th>6</th>\n",
       "    </tr>\n",
       "  </thead>\n",
       "  <tbody>\n",
       "    <tr>\n",
       "      <th>0</th>\n",
       "      <td>761183272</td>\n",
       "      <td>0761183272.jpg</td>\n",
       "      <td>http://ecx.images-amazon.com/images/I/61Y5cOdHJbL.jpg</td>\n",
       "      <td>Mom's Family Wall Calendar 2016</td>\n",
       "      <td>Sandra Boynton</td>\n",
       "      <td>3</td>\n",
       "      <td>Calendars</td>\n",
       "    </tr>\n",
       "    <tr>\n",
       "      <th>1</th>\n",
       "      <td>1623439671</td>\n",
       "      <td>1623439671.jpg</td>\n",
       "      <td>http://ecx.images-amazon.com/images/I/61t-hrSw9BL.jpg</td>\n",
       "      <td>Doug the Pug 2016 Wall Calendar</td>\n",
       "      <td>Doug the Pug</td>\n",
       "      <td>3</td>\n",
       "      <td>Calendars</td>\n",
       "    </tr>\n",
       "    <tr>\n",
       "      <th>2</th>\n",
       "      <td>B00O80WC6I</td>\n",
       "      <td>B00O80WC6I.jpg</td>\n",
       "      <td>http://ecx.images-amazon.com/images/I/41X-KQqsFUL.jpg</td>\n",
       "      <td>Moleskine 2016 Weekly Notebook, 12M, Large, Black, Soft Cover (5 x 8.25)</td>\n",
       "      <td>Moleskine</td>\n",
       "      <td>3</td>\n",
       "      <td>Calendars</td>\n",
       "    </tr>\n",
       "    <tr>\n",
       "      <th>3</th>\n",
       "      <td>761182187</td>\n",
       "      <td>0761182187.jpg</td>\n",
       "      <td>http://ecx.images-amazon.com/images/I/61j-4gxJqjL.jpg</td>\n",
       "      <td>365 Cats Color Page-A-Day Calendar 2016</td>\n",
       "      <td>Workman Publishing</td>\n",
       "      <td>3</td>\n",
       "      <td>Calendars</td>\n",
       "    </tr>\n",
       "    <tr>\n",
       "      <th>4</th>\n",
       "      <td>1578052084</td>\n",
       "      <td>1578052084.jpg</td>\n",
       "      <td>http://ecx.images-amazon.com/images/I/51Ry4Tsq6xL.jpg</td>\n",
       "      <td>Sierra Club Engagement Calendar 2016</td>\n",
       "      <td>Sierra Club</td>\n",
       "      <td>3</td>\n",
       "      <td>Calendars</td>\n",
       "    </tr>\n",
       "  </tbody>\n",
       "</table>\n",
       "</div>"
      ],
      "text/plain": [
       "            0               1                                                      2                                                                         3                   4  5          6\n",
       "0   761183272  0761183272.jpg  http://ecx.images-amazon.com/images/I/61Y5cOdHJbL.jpg                                           Mom's Family Wall Calendar 2016      Sandra Boynton  3  Calendars\n",
       "1  1623439671  1623439671.jpg  http://ecx.images-amazon.com/images/I/61t-hrSw9BL.jpg                                           Doug the Pug 2016 Wall Calendar        Doug the Pug  3  Calendars\n",
       "2  B00O80WC6I  B00O80WC6I.jpg  http://ecx.images-amazon.com/images/I/41X-KQqsFUL.jpg  Moleskine 2016 Weekly Notebook, 12M, Large, Black, Soft Cover (5 x 8.25)           Moleskine  3  Calendars\n",
       "3   761182187  0761182187.jpg  http://ecx.images-amazon.com/images/I/61j-4gxJqjL.jpg                                   365 Cats Color Page-A-Day Calendar 2016  Workman Publishing  3  Calendars\n",
       "4  1578052084  1578052084.jpg  http://ecx.images-amazon.com/images/I/51Ry4Tsq6xL.jpg                                      Sierra Club Engagement Calendar 2016         Sierra Club  3  Calendars"
      ]
     },
     "execution_count": 10,
     "metadata": {},
     "output_type": "execute_result"
    }
   ],
   "source": [
    "df2=pd.read_csv(\"./data/book32-listing.csv\",header=None)\n",
    "df2.head()"
   ]
  },
  {
   "cell_type": "code",
   "execution_count": 11,
   "metadata": {},
   "outputs": [
    {
     "data": {
      "text/plain": [
       "array(['Calendars', 'Comics & Graphic Novels', 'Test Preparation',\n",
       "       'Mystery, Thriller & Suspense', 'Science Fiction & Fantasy',\n",
       "       'Romance', 'Humor & Entertainment', 'Literature & Fiction',\n",
       "       'Gay & Lesbian', 'Engineering & Transportation',\n",
       "       'Cookbooks, Food & Wine', 'Crafts, Hobbies & Home',\n",
       "       'Arts & Photography', 'Education & Teaching',\n",
       "       'Parenting & Relationships', 'Self-Help', 'Computers & Technology',\n",
       "       'Medical Books', 'Science & Math', 'Health, Fitness & Dieting',\n",
       "       'Business & Money', 'Law', 'Biographies & Memoirs', 'History',\n",
       "       'Politics & Social Sciences', 'Reference',\n",
       "       'Christian Books & Bibles', 'Religion & Spirituality',\n",
       "       'Sports & Outdoors', 'Teen & Young Adult', \"Children's Books\",\n",
       "       'Travel'], dtype=object)"
      ]
     },
     "execution_count": 11,
     "metadata": {},
     "output_type": "execute_result"
    }
   ],
   "source": [
    "df2[6].unique()"
   ]
  },
  {
   "cell_type": "markdown",
   "metadata": {},
   "source": [
    "As above, we will add the results of the sentiment analysis to the recently read dataframe. Additionally, we will drop all columns of the dataframe we are no longer interested in. This is always a good idea as it saves memory."
   ]
  },
  {
   "cell_type": "code",
   "execution_count": 12,
   "metadata": {},
   "outputs": [
    {
     "data": {
      "text/html": [
       "<div>\n",
       "<style scoped>\n",
       "    .dataframe tbody tr th:only-of-type {\n",
       "        vertical-align: middle;\n",
       "    }\n",
       "\n",
       "    .dataframe tbody tr th {\n",
       "        vertical-align: top;\n",
       "    }\n",
       "\n",
       "    .dataframe thead th {\n",
       "        text-align: right;\n",
       "    }\n",
       "</style>\n",
       "<table border=\"1\" class=\"dataframe\">\n",
       "  <thead>\n",
       "    <tr style=\"text-align: right;\">\n",
       "      <th></th>\n",
       "      <th>0</th>\n",
       "      <th>3</th>\n",
       "      <th>sentiment_polarity</th>\n",
       "      <th>sentiment_subjectivity</th>\n",
       "    </tr>\n",
       "  </thead>\n",
       "  <tbody>\n",
       "    <tr>\n",
       "      <th>0</th>\n",
       "      <td>761183272</td>\n",
       "      <td>Mom's Family Wall Calendar 2016</td>\n",
       "      <td>0.000000</td>\n",
       "      <td>0.000000</td>\n",
       "    </tr>\n",
       "    <tr>\n",
       "      <th>1</th>\n",
       "      <td>1623439671</td>\n",
       "      <td>Doug the Pug 2016 Wall Calendar</td>\n",
       "      <td>0.000000</td>\n",
       "      <td>0.000000</td>\n",
       "    </tr>\n",
       "    <tr>\n",
       "      <th>2</th>\n",
       "      <td>B00O80WC6I</td>\n",
       "      <td>Moleskine 2016 Weekly Notebook, 12M, Large, Black, Soft Cover (5 x 8.25)</td>\n",
       "      <td>0.049206</td>\n",
       "      <td>0.403968</td>\n",
       "    </tr>\n",
       "    <tr>\n",
       "      <th>3</th>\n",
       "      <td>761182187</td>\n",
       "      <td>365 Cats Color Page-A-Day Calendar 2016</td>\n",
       "      <td>0.000000</td>\n",
       "      <td>0.000000</td>\n",
       "    </tr>\n",
       "    <tr>\n",
       "      <th>4</th>\n",
       "      <td>1578052084</td>\n",
       "      <td>Sierra Club Engagement Calendar 2016</td>\n",
       "      <td>0.000000</td>\n",
       "      <td>0.000000</td>\n",
       "    </tr>\n",
       "  </tbody>\n",
       "</table>\n",
       "</div>"
      ],
      "text/plain": [
       "            0                                                                         3  sentiment_polarity  sentiment_subjectivity\n",
       "0   761183272                                           Mom's Family Wall Calendar 2016            0.000000                0.000000\n",
       "1  1623439671                                           Doug the Pug 2016 Wall Calendar            0.000000                0.000000\n",
       "2  B00O80WC6I  Moleskine 2016 Weekly Notebook, 12M, Large, Black, Soft Cover (5 x 8.25)            0.049206                0.403968\n",
       "3   761182187                                   365 Cats Color Page-A-Day Calendar 2016            0.000000                0.000000\n",
       "4  1578052084                                      Sierra Club Engagement Calendar 2016            0.000000                0.000000"
      ]
     },
     "execution_count": 12,
     "metadata": {},
     "output_type": "execute_result"
    }
   ],
   "source": [
    "def getSentimentPolarity(data):\n",
    "    txt=TextBlob(data)\n",
    "    return txt.sentiment.polarity\n",
    "\n",
    "def getSentimentSubjectivity(data):\n",
    "    txt=TextBlob(data)\n",
    "    return txt.sentiment.subjectivity\n",
    "\n",
    "df2['sentiment_polarity'] = df2[3].apply(getSentimentPolarity)\n",
    "df2['sentiment_subjectivity'] = df2[3].apply(getSentimentSubjectivity)\n",
    "\n",
    "df2=df2.drop([1,2,4,5,6], axis=1)\n",
    "df2.head()"
   ]
  },
  {
   "cell_type": "markdown",
   "metadata": {},
   "source": [
    "## Analysis II"
   ]
  },
  {
   "cell_type": "code",
   "execution_count": 13,
   "metadata": {},
   "outputs": [
    {
     "data": {
      "text/plain": [
       "(207572, 4)"
      ]
     },
     "execution_count": 13,
     "metadata": {},
     "output_type": "execute_result"
    }
   ],
   "source": [
    "df2.shape"
   ]
  },
  {
   "cell_type": "code",
   "execution_count": 14,
   "metadata": {},
   "outputs": [
    {
     "data": {
      "text/plain": [
       "array([[<matplotlib.axes._subplots.AxesSubplot object at 0x1a4400e860>,\n",
       "        <matplotlib.axes._subplots.AxesSubplot object at 0x1a2f7e4b38>]],\n",
       "      dtype=object)"
      ]
     },
     "execution_count": 14,
     "metadata": {},
     "output_type": "execute_result"
    },
    {
     "data": {
      "image/png": "[encoded data removed]",
      "text/plain": [
       "<Figure size 432x288 with 2 Axes>"
      ]
     },
     "metadata": {
      "needs_background": "light"
     },
     "output_type": "display_data"
    }
   ],
   "source": [
    "df2[[\"sentiment_polarity\",\"sentiment_subjectivity\"]].hist()"
   ]
  },
  {
   "cell_type": "markdown",
   "metadata": {},
   "source": [
    "Because the Berlin State library dataset contains much more elements than the Amazon books dataset, we have to take a sample to facilitate comparison."
   ]
  },
  {
   "cell_type": "code",
   "execution_count": 15,
   "metadata": {},
   "outputs": [
    {
     "data": {
      "text/html": [
       "<div>\n",
       "<style scoped>\n",
       "    .dataframe tbody tr th:only-of-type {\n",
       "        vertical-align: middle;\n",
       "    }\n",
       "\n",
       "    .dataframe tbody tr th {\n",
       "        vertical-align: top;\n",
       "    }\n",
       "\n",
       "    .dataframe thead th {\n",
       "        text-align: right;\n",
       "    }\n",
       "</style>\n",
       "<table border=\"1\" class=\"dataframe\">\n",
       "  <thead>\n",
       "    <tr style=\"text-align: right;\">\n",
       "      <th></th>\n",
       "      <th>ppn</th>\n",
       "      <th>title</th>\n",
       "      <th>sentiment_polarity</th>\n",
       "      <th>sentiment_subjectivity</th>\n",
       "    </tr>\n",
       "  </thead>\n",
       "  <tbody>\n",
       "    <tr>\n",
       "      <th>856834</th>\n",
       "      <td>0552390860</td>\n",
       "      <td>Principles of politeness and of knowing the world, in two parts Containing every Instruction necessary to complete the Gentleman and Man of Fashion To teach him a Knowledge of Life, and make him well received in all Companies. for the improvement...</td>\n",
       "      <td>0.091667</td>\n",
       "      <td>0.533333</td>\n",
       "    </tr>\n",
       "    <tr>\n",
       "      <th>189716</th>\n",
       "      <td>0446541982</td>\n",
       "      <td>Notes on the Sthanakwasi or the non-idolatrous Shwetambar Jains</td>\n",
       "      <td>0.000000</td>\n",
       "      <td>0.000000</td>\n",
       "    </tr>\n",
       "    <tr>\n",
       "      <th>1115929</th>\n",
       "      <td>0792497716</td>\n",
       "      <td>Japanese popular culture in the twenty-first century</td>\n",
       "      <td>0.300000</td>\n",
       "      <td>0.450000</td>\n",
       "    </tr>\n",
       "    <tr>\n",
       "      <th>1074758</th>\n",
       "      <td>0424879433</td>\n",
       "      <td>Proceedings of public hearings: Plutonium and the other transuranium elements</td>\n",
       "      <td>-0.062500</td>\n",
       "      <td>0.220833</td>\n",
       "    </tr>\n",
       "    <tr>\n",
       "      <th>573264</th>\n",
       "      <td>060763314X</td>\n",
       "      <td>Bahāwalpur district map [Pakistan]</td>\n",
       "      <td>0.000000</td>\n",
       "      <td>0.000000</td>\n",
       "    </tr>\n",
       "  </tbody>\n",
       "</table>\n",
       "</div>"
      ],
      "text/plain": [
       "                ppn                                                                                                                                                                                                                                                      title  sentiment_polarity  sentiment_subjectivity\n",
       "856834   0552390860  Principles of politeness and of knowing the world, in two parts Containing every Instruction necessary to complete the Gentleman and Man of Fashion To teach him a Knowledge of Life, and make him well received in all Companies. for the improvement...            0.091667                0.533333\n",
       "189716   0446541982                                                                                                                                                                                           Notes on the Sthanakwasi or the non-idolatrous Shwetambar Jains             0.000000                0.000000\n",
       "1115929  0792497716                                                                                                                                                                                                      Japanese popular culture in the twenty-first century             0.300000                0.450000\n",
       "1074758  0424879433                                                                                                                                                                             Proceedings of public hearings: Plutonium and the other transuranium elements            -0.062500                0.220833\n",
       "573264   060763314X                                                                                                                                                                                                                        Bahāwalpur district map [Pakistan]            0.000000                0.000000"
      ]
     },
     "execution_count": 15,
     "metadata": {},
     "output_type": "execute_result"
    }
   ],
   "source": [
    "df3=df.sample(n=200000, random_state=1) # random_state=1 for reproducibility\n",
    "df3.head()"
   ]
  },
  {
   "cell_type": "markdown",
   "metadata": {},
   "source": [
    "In the next cell, we will plot the histograms of both datasets over each other to compare their similarity."
   ]
  },
  {
   "cell_type": "code",
   "execution_count": 16,
   "metadata": {},
   "outputs": [
    {
     "data": {
      "image/png": "[encoded data removed]",
      "text/plain": [
       "<Figure size 432x288 with 1 Axes>"
      ]
     },
     "metadata": {
      "needs_background": "light"
     },
     "output_type": "display_data"
    }
   ],
   "source": [
    "# create bins ranging from -1 to 1 in 10 steps\n",
    "bins = np.linspace(-1, 1, 10)\n",
    "# plot both histograms\n",
    "plt.hist(df3[\"sentiment_polarity\"],bins,alpha=0.5, label='Stabi')\n",
    "plt.hist(df2[\"sentiment_polarity\"],bins,alpha=0.5, label='Amazon')\n",
    "plt.legend(loc='upper right')\n",
    "plt.show()"
   ]
  },
  {
   "cell_type": "markdown",
   "metadata": {},
   "source": [
    "Interestingly, most titles are neutral indicated by the amount of media in the neutral (0) bin. However, Amazon's media titles tend to be more positive than those of the Berlin State Library.\n",
    "\n",
    "Let's take a look at the most positive titles from Amazon:"
   ]
  },
  {
   "cell_type": "code",
   "execution_count": 17,
   "metadata": {},
   "outputs": [
    {
     "data": {
      "text/html": [
       "<div>\n",
       "<style scoped>\n",
       "    .dataframe tbody tr th:only-of-type {\n",
       "        vertical-align: middle;\n",
       "    }\n",
       "\n",
       "    .dataframe tbody tr th {\n",
       "        vertical-align: top;\n",
       "    }\n",
       "\n",
       "    .dataframe thead th {\n",
       "        text-align: right;\n",
       "    }\n",
       "</style>\n",
       "<table border=\"1\" class=\"dataframe\">\n",
       "  <thead>\n",
       "    <tr style=\"text-align: right;\">\n",
       "      <th></th>\n",
       "      <th>0</th>\n",
       "      <th>3</th>\n",
       "      <th>sentiment_polarity</th>\n",
       "      <th>sentiment_subjectivity</th>\n",
       "    </tr>\n",
       "  </thead>\n",
       "  <tbody>\n",
       "    <tr>\n",
       "      <th>30</th>\n",
       "      <td>761183728</td>\n",
       "      <td>Today Is Going to Be a Great Day! Color Page-A-Day Calendar 2016</td>\n",
       "      <td>1.0</td>\n",
       "      <td>0.75</td>\n",
       "    </tr>\n",
       "    <tr>\n",
       "      <th>109</th>\n",
       "      <td>1419716093</td>\n",
       "      <td>William Wegman Man's Best Friend 2016 Wall Calendar</td>\n",
       "      <td>1.0</td>\n",
       "      <td>0.30</td>\n",
       "    </tr>\n",
       "    <tr>\n",
       "      <th>738</th>\n",
       "      <td>3955704696</td>\n",
       "      <td>Sailing tall Boats (Wonderful World)</td>\n",
       "      <td>1.0</td>\n",
       "      <td>1.00</td>\n",
       "    </tr>\n",
       "    <tr>\n",
       "      <th>759</th>\n",
       "      <td>3955704688</td>\n",
       "      <td>Regatta (Wonderful World)</td>\n",
       "      <td>1.0</td>\n",
       "      <td>1.00</td>\n",
       "    </tr>\n",
       "    <tr>\n",
       "      <th>769</th>\n",
       "      <td>3955700984</td>\n",
       "      <td>Sailing Tall Boats 2014 (What a Wonderful World)</td>\n",
       "      <td>1.0</td>\n",
       "      <td>1.00</td>\n",
       "    </tr>\n",
       "  </tbody>\n",
       "</table>\n",
       "</div>"
      ],
      "text/plain": [
       "              0                                                                 3  sentiment_polarity  sentiment_subjectivity\n",
       "30    761183728  Today Is Going to Be a Great Day! Color Page-A-Day Calendar 2016                 1.0                    0.75\n",
       "109  1419716093               William Wegman Man's Best Friend 2016 Wall Calendar                 1.0                    0.30\n",
       "738  3955704696                              Sailing tall Boats (Wonderful World)                 1.0                    1.00\n",
       "759  3955704688                                         Regatta (Wonderful World)                 1.0                    1.00\n",
       "769  3955700984                  Sailing Tall Boats 2014 (What a Wonderful World)                 1.0                    1.00"
      ]
     },
     "execution_count": 17,
     "metadata": {},
     "output_type": "execute_result"
    }
   ],
   "source": [
    "df2[(df2.sentiment_polarity==df2.sentiment_polarity.max())].head()"
   ]
  },
  {
   "cell_type": "markdown",
   "metadata": {},
   "source": [
    "What a wonderful world! Anyhow, Berlin State Library's titles form a new class of positive thinking..., see [Report of the committee appointed by the Highland Society of Scotland to consider what is the best mode of forming institutions of the nature of savings banks, for receiving the deposits of labourers and others](http://stabikat.de/DB=1/XMLPRS=N/PPN?PPN=554977389)."
   ]
  },
  {
   "cell_type": "code",
   "execution_count": 18,
   "metadata": {
    "scrolled": true
   },
   "outputs": [
    {
     "data": {
      "text/html": [
       "<div>\n",
       "<style scoped>\n",
       "    .dataframe tbody tr th:only-of-type {\n",
       "        vertical-align: middle;\n",
       "    }\n",
       "\n",
       "    .dataframe tbody tr th {\n",
       "        vertical-align: top;\n",
       "    }\n",
       "\n",
       "    .dataframe thead th {\n",
       "        text-align: right;\n",
       "    }\n",
       "</style>\n",
       "<table border=\"1\" class=\"dataframe\">\n",
       "  <thead>\n",
       "    <tr style=\"text-align: right;\">\n",
       "      <th></th>\n",
       "      <th>ppn</th>\n",
       "      <th>title</th>\n",
       "      <th>sentiment_polarity</th>\n",
       "      <th>sentiment_subjectivity</th>\n",
       "    </tr>\n",
       "  </thead>\n",
       "  <tbody>\n",
       "    <tr>\n",
       "      <th>503577</th>\n",
       "      <td>0558782485</td>\n",
       "      <td>The greatest [Muhammad Ali]</td>\n",
       "      <td>1.0</td>\n",
       "      <td>1.0</td>\n",
       "    </tr>\n",
       "    <tr>\n",
       "      <th>688303</th>\n",
       "      <td>0554977389</td>\n",
       "      <td>Report of the committee appointed by the Highland Society of Scotland to consider what is the best mode of forming institutions of the nature of savings banks, for receiving the deposits of labourers and others</td>\n",
       "      <td>1.0</td>\n",
       "      <td>0.3</td>\n",
       "    </tr>\n",
       "    <tr>\n",
       "      <th>564388</th>\n",
       "      <td>0555627349</td>\n",
       "      <td>A romance on three legs Glenn Gould's obsessive quest for the perfect piano</td>\n",
       "      <td>1.0</td>\n",
       "      <td>1.0</td>\n",
       "    </tr>\n",
       "    <tr>\n",
       "      <th>471510</th>\n",
       "      <td>0391442570</td>\n",
       "      <td>What friends do best</td>\n",
       "      <td>1.0</td>\n",
       "      <td>0.3</td>\n",
       "    </tr>\n",
       "    <tr>\n",
       "      <th>1194783</th>\n",
       "      <td>0880060115</td>\n",
       "      <td>The excellent vessel of ambrosia a commentary on the thirty-seven practices of bodhisattvas union of the root text and instructions</td>\n",
       "      <td>1.0</td>\n",
       "      <td>1.0</td>\n",
       "    </tr>\n",
       "  </tbody>\n",
       "</table>\n",
       "</div>"
      ],
      "text/plain": [
       "                ppn                                                                                                                                                                                                               title  sentiment_polarity  sentiment_subjectivity\n",
       "503577   0558782485                                                                                                                                                                                         The greatest [Muhammad Ali]                 1.0                     1.0\n",
       "688303   0554977389  Report of the committee appointed by the Highland Society of Scotland to consider what is the best mode of forming institutions of the nature of savings banks, for receiving the deposits of labourers and others                 1.0                     0.3\n",
       "564388   0555627349                                                                                                                                         A romance on three legs Glenn Gould's obsessive quest for the perfect piano                 1.0                     1.0\n",
       "471510   0391442570                                                                                                                                                                                               What friends do best                  1.0                     0.3\n",
       "1194783  0880060115                                                                                 The excellent vessel of ambrosia a commentary on the thirty-seven practices of bodhisattvas union of the root text and instructions                 1.0                     1.0"
      ]
     },
     "execution_count": 18,
     "metadata": {},
     "output_type": "execute_result"
    }
   ],
   "source": [
    "df3[(df3.sentiment_polarity==df3.sentiment_polarity.max())].head()"
   ]
  },
  {
   "cell_type": "markdown",
   "metadata": {},
   "source": [
    "For the sake of completeness, we will also look at the most negative book titles."
   ]
  },
  {
   "cell_type": "code",
   "execution_count": 19,
   "metadata": {},
   "outputs": [
    {
     "data": {
      "text/html": [
       "<div>\n",
       "<style scoped>\n",
       "    .dataframe tbody tr th:only-of-type {\n",
       "        vertical-align: middle;\n",
       "    }\n",
       "\n",
       "    .dataframe tbody tr th {\n",
       "        vertical-align: top;\n",
       "    }\n",
       "\n",
       "    .dataframe thead th {\n",
       "        text-align: right;\n",
       "    }\n",
       "</style>\n",
       "<table border=\"1\" class=\"dataframe\">\n",
       "  <thead>\n",
       "    <tr style=\"text-align: right;\">\n",
       "      <th></th>\n",
       "      <th>0</th>\n",
       "      <th>3</th>\n",
       "      <th>sentiment_polarity</th>\n",
       "      <th>sentiment_subjectivity</th>\n",
       "    </tr>\n",
       "  </thead>\n",
       "  <tbody>\n",
       "    <tr>\n",
       "      <th>3993</th>\n",
       "      <td>61862975</td>\n",
       "      <td>Gris Grimly's Frankenstein</td>\n",
       "      <td>-1.0</td>\n",
       "      <td>1.0</td>\n",
       "    </tr>\n",
       "    <tr>\n",
       "      <th>5078</th>\n",
       "      <td>1421539896</td>\n",
       "      <td>Naruto: 3-in-1 Edition, Vol. 1 (Uzumaki Naruto / The Worst Client / Dreams)</td>\n",
       "      <td>-1.0</td>\n",
       "      <td>1.0</td>\n",
       "    </tr>\n",
       "    <tr>\n",
       "      <th>5421</th>\n",
       "      <td>1401253385</td>\n",
       "      <td>Forever Evil</td>\n",
       "      <td>-1.0</td>\n",
       "      <td>1.0</td>\n",
       "    </tr>\n",
       "    <tr>\n",
       "      <th>5498</th>\n",
       "      <td>1770462147</td>\n",
       "      <td>The Owner's Manual to Terrible Parenting</td>\n",
       "      <td>-1.0</td>\n",
       "      <td>1.0</td>\n",
       "    </tr>\n",
       "    <tr>\n",
       "      <th>8571</th>\n",
       "      <td>316349933</td>\n",
       "      <td>Career of Evil (Cormoran Strike)</td>\n",
       "      <td>-1.0</td>\n",
       "      <td>1.0</td>\n",
       "    </tr>\n",
       "  </tbody>\n",
       "</table>\n",
       "</div>"
      ],
      "text/plain": [
       "               0                                                                            3  sentiment_polarity  sentiment_subjectivity\n",
       "3993    61862975                                                   Gris Grimly's Frankenstein                -1.0                     1.0\n",
       "5078  1421539896  Naruto: 3-in-1 Edition, Vol. 1 (Uzumaki Naruto / The Worst Client / Dreams)                -1.0                     1.0\n",
       "5421  1401253385                                                                 Forever Evil                -1.0                     1.0\n",
       "5498  1770462147                                     The Owner's Manual to Terrible Parenting                -1.0                     1.0\n",
       "8571   316349933                                             Career of Evil (Cormoran Strike)                -1.0                     1.0"
      ]
     },
     "execution_count": 19,
     "metadata": {},
     "output_type": "execute_result"
    }
   ],
   "source": [
    "df2[(df2.sentiment_polarity==df2.sentiment_polarity.min())].head()"
   ]
  },
  {
   "cell_type": "code",
   "execution_count": 20,
   "metadata": {},
   "outputs": [
    {
     "data": {
      "text/html": [
       "<div>\n",
       "<style scoped>\n",
       "    .dataframe tbody tr th:only-of-type {\n",
       "        vertical-align: middle;\n",
       "    }\n",
       "\n",
       "    .dataframe tbody tr th {\n",
       "        vertical-align: top;\n",
       "    }\n",
       "\n",
       "    .dataframe thead th {\n",
       "        text-align: right;\n",
       "    }\n",
       "</style>\n",
       "<table border=\"1\" class=\"dataframe\">\n",
       "  <thead>\n",
       "    <tr style=\"text-align: right;\">\n",
       "      <th></th>\n",
       "      <th>ppn</th>\n",
       "      <th>title</th>\n",
       "      <th>sentiment_polarity</th>\n",
       "      <th>sentiment_subjectivity</th>\n",
       "    </tr>\n",
       "  </thead>\n",
       "  <tbody>\n",
       "    <tr>\n",
       "      <th>1207300</th>\n",
       "      <td>0725013540</td>\n",
       "      <td>A Poem on Jason Fairbanks who is to be executed this day (Sept. 10) in Dedham, for the shocking murder of Miss Elizabeth Fales, which was committed in that town, on the 18th day of May, 1801</td>\n",
       "      <td>-1.0</td>\n",
       "      <td>1.0</td>\n",
       "    </tr>\n",
       "    <tr>\n",
       "      <th>310779</th>\n",
       "      <td>0327634820</td>\n",
       "      <td>Saddam's bombmaker the terrifying inside story of Iraqi nuclear and biological weapons agenda</td>\n",
       "      <td>-1.0</td>\n",
       "      <td>1.0</td>\n",
       "    </tr>\n",
       "    <tr>\n",
       "      <th>765143</th>\n",
       "      <td>0554752662</td>\n",
       "      <td>A vvarning to all teachers of children, which are called school-masters and school-mistresses and to parents, which doth send their children to be taught by them that all school-masters and school-mistresses may train up children in the fear of G...</td>\n",
       "      <td>-1.0</td>\n",
       "      <td>1.0</td>\n",
       "    </tr>\n",
       "    <tr>\n",
       "      <th>679298</th>\n",
       "      <td>0554114143</td>\n",
       "      <td>Sir Beniamin Rudierd his speech in behalfe of the clergie and of parishes miserably destitute of instruction through want of maintenance</td>\n",
       "      <td>-1.0</td>\n",
       "      <td>1.0</td>\n",
       "    </tr>\n",
       "    <tr>\n",
       "      <th>1116117</th>\n",
       "      <td>0739310305</td>\n",
       "      <td>What's the worst thing you can do to Shakespeare?</td>\n",
       "      <td>-1.0</td>\n",
       "      <td>1.0</td>\n",
       "    </tr>\n",
       "  </tbody>\n",
       "</table>\n",
       "</div>"
      ],
      "text/plain": [
       "                ppn                                                                                                                                                                                                                                                      title  sentiment_polarity  sentiment_subjectivity\n",
       "1207300  0725013540                                                             A Poem on Jason Fairbanks who is to be executed this day (Sept. 10) in Dedham, for the shocking murder of Miss Elizabeth Fales, which was committed in that town, on the 18th day of May, 1801                -1.0                     1.0\n",
       "310779   0327634820                                                                                                                                                              Saddam's bombmaker the terrifying inside story of Iraqi nuclear and biological weapons agenda                -1.0                     1.0\n",
       "765143   0554752662  A vvarning to all teachers of children, which are called school-masters and school-mistresses and to parents, which doth send their children to be taught by them that all school-masters and school-mistresses may train up children in the fear of G...                -1.0                     1.0\n",
       "679298   0554114143                                                                                                                  Sir Beniamin Rudierd his speech in behalfe of the clergie and of parishes miserably destitute of instruction through want of maintenance                 -1.0                     1.0\n",
       "1116117  0739310305                                                                                                                                                                                                         What's the worst thing you can do to Shakespeare?                 -1.0                     1.0"
      ]
     },
     "execution_count": 20,
     "metadata": {},
     "output_type": "execute_result"
    }
   ],
   "source": [
    "df3[(df3.sentiment_polarity==df3.sentiment_polarity.min())].head()"
   ]
  },
  {
   "cell_type": "markdown",
   "metadata": {},
   "source": [
    "## An Alternative Sentiment Analysis Using VADER\n",
    "First, you will have to download the lexicon for [VADER](https://github.com/cjhutto/vaderSentiment), another sentiment analyzer with a focus on social media."
   ]
  },
  {
   "cell_type": "code",
   "execution_count": 21,
   "metadata": {},
   "outputs": [
    {
     "name": "stderr",
     "output_type": "stream",
     "text": [
      "[nltk_data] Downloading package vader_lexicon to\n",
      "[nltk_data]     /Users/david/nltk_data...\n",
      "[nltk_data]   Package vader_lexicon is already up-to-date!\n"
     ]
    },
    {
     "data": {
      "text/plain": [
       "True"
      ]
     },
     "execution_count": 21,
     "metadata": {},
     "output_type": "execute_result"
    }
   ],
   "source": [
    "import nltk\n",
    "nltk.download('vader_lexicon')"
   ]
  },
  {
   "cell_type": "code",
   "execution_count": 22,
   "metadata": {},
   "outputs": [],
   "source": [
    "from nltk.sentiment.vader import SentimentIntensityAnalyzer\n",
    "\n",
    "sid = SentimentIntensityAnalyzer()"
   ]
  },
  {
   "cell_type": "markdown",
   "metadata": {},
   "source": [
    "As above, we will create a function to calculate the sentiment polarity for each title. The _compound_ value is a aggregated score based on all negative, neutral, and positive terms in the title."
   ]
  },
  {
   "cell_type": "code",
   "execution_count": 23,
   "metadata": {},
   "outputs": [
    {
     "data": {
      "text/html": [
       "<div>\n",
       "<style scoped>\n",
       "    .dataframe tbody tr th:only-of-type {\n",
       "        vertical-align: middle;\n",
       "    }\n",
       "\n",
       "    .dataframe tbody tr th {\n",
       "        vertical-align: top;\n",
       "    }\n",
       "\n",
       "    .dataframe thead th {\n",
       "        text-align: right;\n",
       "    }\n",
       "</style>\n",
       "<table border=\"1\" class=\"dataframe\">\n",
       "  <thead>\n",
       "    <tr style=\"text-align: right;\">\n",
       "      <th></th>\n",
       "      <th>0</th>\n",
       "      <th>3</th>\n",
       "      <th>sentiment_polarity</th>\n",
       "      <th>sentiment_subjectivity</th>\n",
       "      <th>sentiment_polarity_VADER</th>\n",
       "    </tr>\n",
       "  </thead>\n",
       "  <tbody>\n",
       "    <tr>\n",
       "      <th>0</th>\n",
       "      <td>761183272</td>\n",
       "      <td>Mom's Family Wall Calendar 2016</td>\n",
       "      <td>0.000000</td>\n",
       "      <td>0.000000</td>\n",
       "      <td>0.0000</td>\n",
       "    </tr>\n",
       "    <tr>\n",
       "      <th>1</th>\n",
       "      <td>1623439671</td>\n",
       "      <td>Doug the Pug 2016 Wall Calendar</td>\n",
       "      <td>0.000000</td>\n",
       "      <td>0.000000</td>\n",
       "      <td>0.0000</td>\n",
       "    </tr>\n",
       "    <tr>\n",
       "      <th>2</th>\n",
       "      <td>B00O80WC6I</td>\n",
       "      <td>Moleskine 2016 Weekly Notebook, 12M, Large, Black, Soft Cover (5 x 8.25)</td>\n",
       "      <td>0.049206</td>\n",
       "      <td>0.403968</td>\n",
       "      <td>0.0000</td>\n",
       "    </tr>\n",
       "    <tr>\n",
       "      <th>3</th>\n",
       "      <td>761182187</td>\n",
       "      <td>365 Cats Color Page-A-Day Calendar 2016</td>\n",
       "      <td>0.000000</td>\n",
       "      <td>0.000000</td>\n",
       "      <td>0.0000</td>\n",
       "    </tr>\n",
       "    <tr>\n",
       "      <th>4</th>\n",
       "      <td>1578052084</td>\n",
       "      <td>Sierra Club Engagement Calendar 2016</td>\n",
       "      <td>0.000000</td>\n",
       "      <td>0.000000</td>\n",
       "      <td>0.4588</td>\n",
       "    </tr>\n",
       "  </tbody>\n",
       "</table>\n",
       "</div>"
      ],
      "text/plain": [
       "            0                                                                         3  sentiment_polarity  sentiment_subjectivity  sentiment_polarity_VADER\n",
       "0   761183272                                           Mom's Family Wall Calendar 2016            0.000000                0.000000                    0.0000\n",
       "1  1623439671                                           Doug the Pug 2016 Wall Calendar            0.000000                0.000000                    0.0000\n",
       "2  B00O80WC6I  Moleskine 2016 Weekly Notebook, 12M, Large, Black, Soft Cover (5 x 8.25)            0.049206                0.403968                    0.0000\n",
       "3   761182187                                   365 Cats Color Page-A-Day Calendar 2016            0.000000                0.000000                    0.0000\n",
       "4  1578052084                                      Sierra Club Engagement Calendar 2016            0.000000                0.000000                    0.4588"
      ]
     },
     "execution_count": 23,
     "metadata": {},
     "output_type": "execute_result"
    }
   ],
   "source": [
    "def getSentimentPolarityVADER(data):\n",
    "    return sid.polarity_scores(data)['compound']\n",
    "\n",
    "df2['sentiment_polarity_VADER'] = df2[3].apply(getSentimentPolarityVADER)\n",
    "df2.head()"
   ]
  },
  {
   "cell_type": "code",
   "execution_count": 24,
   "metadata": {},
   "outputs": [
    {
     "data": {
      "text/html": [
       "<div>\n",
       "<style scoped>\n",
       "    .dataframe tbody tr th:only-of-type {\n",
       "        vertical-align: middle;\n",
       "    }\n",
       "\n",
       "    .dataframe tbody tr th {\n",
       "        vertical-align: top;\n",
       "    }\n",
       "\n",
       "    .dataframe thead th {\n",
       "        text-align: right;\n",
       "    }\n",
       "</style>\n",
       "<table border=\"1\" class=\"dataframe\">\n",
       "  <thead>\n",
       "    <tr style=\"text-align: right;\">\n",
       "      <th></th>\n",
       "      <th>ppn</th>\n",
       "      <th>title</th>\n",
       "      <th>sentiment_polarity</th>\n",
       "      <th>sentiment_subjectivity</th>\n",
       "      <th>sentiment_polarity_VADER</th>\n",
       "    </tr>\n",
       "  </thead>\n",
       "  <tbody>\n",
       "    <tr>\n",
       "      <th>856834</th>\n",
       "      <td>0552390860</td>\n",
       "      <td>Principles of politeness and of knowing the world, in two parts Containing every Instruction necessary to complete the Gentleman and Man of Fashion To teach him a Knowledge of Life, and make him well received in all Companies. for the improvement...</td>\n",
       "      <td>0.091667</td>\n",
       "      <td>0.533333</td>\n",
       "      <td>0.6249</td>\n",
       "    </tr>\n",
       "    <tr>\n",
       "      <th>189716</th>\n",
       "      <td>0446541982</td>\n",
       "      <td>Notes on the Sthanakwasi or the non-idolatrous Shwetambar Jains</td>\n",
       "      <td>0.000000</td>\n",
       "      <td>0.000000</td>\n",
       "      <td>0.0000</td>\n",
       "    </tr>\n",
       "    <tr>\n",
       "      <th>1115929</th>\n",
       "      <td>0792497716</td>\n",
       "      <td>Japanese popular culture in the twenty-first century</td>\n",
       "      <td>0.300000</td>\n",
       "      <td>0.450000</td>\n",
       "      <td>0.4215</td>\n",
       "    </tr>\n",
       "    <tr>\n",
       "      <th>1074758</th>\n",
       "      <td>0424879433</td>\n",
       "      <td>Proceedings of public hearings: Plutonium and the other transuranium elements</td>\n",
       "      <td>-0.062500</td>\n",
       "      <td>0.220833</td>\n",
       "      <td>0.0000</td>\n",
       "    </tr>\n",
       "    <tr>\n",
       "      <th>573264</th>\n",
       "      <td>060763314X</td>\n",
       "      <td>Bahāwalpur district map [Pakistan]</td>\n",
       "      <td>0.000000</td>\n",
       "      <td>0.000000</td>\n",
       "      <td>0.0000</td>\n",
       "    </tr>\n",
       "  </tbody>\n",
       "</table>\n",
       "</div>"
      ],
      "text/plain": [
       "                ppn                                                                                                                                                                                                                                                      title  sentiment_polarity  sentiment_subjectivity  sentiment_polarity_VADER\n",
       "856834   0552390860  Principles of politeness and of knowing the world, in two parts Containing every Instruction necessary to complete the Gentleman and Man of Fashion To teach him a Knowledge of Life, and make him well received in all Companies. for the improvement...            0.091667                0.533333                    0.6249\n",
       "189716   0446541982                                                                                                                                                                                           Notes on the Sthanakwasi or the non-idolatrous Shwetambar Jains             0.000000                0.000000                    0.0000\n",
       "1115929  0792497716                                                                                                                                                                                                      Japanese popular culture in the twenty-first century             0.300000                0.450000                    0.4215\n",
       "1074758  0424879433                                                                                                                                                                             Proceedings of public hearings: Plutonium and the other transuranium elements            -0.062500                0.220833                    0.0000\n",
       "573264   060763314X                                                                                                                                                                                                                        Bahāwalpur district map [Pakistan]            0.000000                0.000000                    0.0000"
      ]
     },
     "execution_count": 24,
     "metadata": {},
     "output_type": "execute_result"
    }
   ],
   "source": [
    "df3['sentiment_polarity_VADER'] = df3[\"title\"].apply(getSentimentPolarityVADER)\n",
    "df3.head()"
   ]
  },
  {
   "cell_type": "markdown",
   "metadata": {},
   "source": [
    "Next, we will compare all analyses."
   ]
  },
  {
   "cell_type": "code",
   "execution_count": 25,
   "metadata": {},
   "outputs": [
    {
     "data": {
      "image/png": "[encoded data removed]",
      "text/plain": [
       "<Figure size 432x288 with 1 Axes>"
      ]
     },
     "metadata": {
      "needs_background": "light"
     },
     "output_type": "display_data"
    }
   ],
   "source": [
    "# create bins ranging from -1 to 1 in 10 steps\n",
    "bins = np.linspace(-1, 1, 10)\n",
    "# plot all histograms\n",
    "plt.hist(df3[\"sentiment_polarity\"],bins,alpha=0.3, label='Stabi')\n",
    "plt.hist(df2[\"sentiment_polarity\"],bins,alpha=0.3, label='Amazon')\n",
    "plt.hist(df3[\"sentiment_polarity_VADER\"],bins,alpha=0.3, label='Stabi VADER')\n",
    "plt.hist(df2[\"sentiment_polarity_VADER\"],bins,alpha=0.3, label='Amazon VADER')\n",
    "plt.legend(loc='upper right')\n",
    "plt.show()"
   ]
  },
  {
   "cell_type": "markdown",
   "metadata": {},
   "source": [
    "This plot is confusing. Hence, we will compare the TextBlob and VADER runs separated by dataset. Subplots are a handy means to get more control over the layout and the plotting."
   ]
  },
  {
   "cell_type": "code",
   "execution_count": 26,
   "metadata": {},
   "outputs": [
    {
     "data": {
      "image/png": "[encoded data removed]",
      "text/plain": [
       "<Figure size 1008x288 with 2 Axes>"
      ]
     },
     "metadata": {
      "needs_background": "light"
     },
     "output_type": "display_data"
    }
   ],
   "source": [
    "# create a subplot environment with one row and two columns\n",
    "fig, axs = plt.subplots(1, 2, figsize=(14, 4), sharey=True)\n",
    "# axs[0] indicates the first columns and behaves as plt. used above\n",
    "axs[0].hist(df3[\"sentiment_polarity\"],bins,alpha=0.3, label='Stabi')\n",
    "axs[0].hist(df3[\"sentiment_polarity_VADER\"],bins,alpha=0.3, label='Stabi VADER')\n",
    "axs[0].legend(loc='upper right')\n",
    "\n",
    "axs[1].hist(df2[\"sentiment_polarity\"],bins,alpha=0.3, label='Amazon')\n",
    "axs[1].hist(df2[\"sentiment_polarity_VADER\"],bins,alpha=0.3, label='Amazon VADER')\n",
    "axs[1].legend(loc='upper right')\n",
    "plt.show()"
   ]
  },
  {
   "cell_type": "code",
   "execution_count": 33,
   "metadata": {},
   "outputs": [
    {
     "data": {
      "image/png": "[encoded data removed]",
      "text/plain": [
       "<Figure size 1008x288 with 2 Axes>"
      ]
     },
     "metadata": {
      "needs_background": "light"
     },
     "output_type": "display_data"
    }
   ],
   "source": [
    "fig, axs = plt.subplots(1, 2, figsize=(14, 4), sharey=True)\n",
    "# plot all histograms\n",
    "axs[0].hist(df3[\"sentiment_polarity_VADER\"],bins,alpha=0.3, label='Stabi VADER')\n",
    "axs[0].hist(df2[\"sentiment_polarity_VADER\"],bins,alpha=0.3, label='Amazon VADER')\n",
    "axs[0].set_ylabel(\"Frequency\")\n",
    "axs[0].set_xlabel(\"Sentiment Polarity (-1 negative, +1 positive)\")\n",
    "axs[0].legend(loc='upper right')\n",
    "\n",
    "axs[1].hist(df3[\"sentiment_polarity\"],bins,alpha=0.5, label='Stabi')\n",
    "axs[1].hist(df2[\"sentiment_polarity\"],bins,alpha=0.5, label='Amazon')\n",
    "axs[1].set_ylabel(\"Frequency\")\n",
    "axs[1].set_xlabel(\"Sentiment Polarity (-1 negative, +1 positive)\")\n",
    "axs[1].legend(loc='upper right')\n",
    "plt.show()"
   ]
  },
  {
   "cell_type": "markdown",
   "metadata": {},
   "source": [
    "Interestingly, the VADER algorithm shows that the titles of both datasets are less neutral. According to VADER, the dataset has a bias towards positive titles. At the same time, even more negative titles are present.\n",
    "\n",
    "To give an example, we will take a look at the most negative media from Amazon as judged by VADER:"
   ]
  },
  {
   "cell_type": "code",
   "execution_count": 28,
   "metadata": {},
   "outputs": [
    {
     "data": {
      "text/html": [
       "<div>\n",
       "<style scoped>\n",
       "    .dataframe tbody tr th:only-of-type {\n",
       "        vertical-align: middle;\n",
       "    }\n",
       "\n",
       "    .dataframe tbody tr th {\n",
       "        vertical-align: top;\n",
       "    }\n",
       "\n",
       "    .dataframe thead th {\n",
       "        text-align: right;\n",
       "    }\n",
       "</style>\n",
       "<table border=\"1\" class=\"dataframe\">\n",
       "  <thead>\n",
       "    <tr style=\"text-align: right;\">\n",
       "      <th></th>\n",
       "      <th>0</th>\n",
       "      <th>3</th>\n",
       "      <th>sentiment_polarity</th>\n",
       "      <th>sentiment_subjectivity</th>\n",
       "      <th>sentiment_polarity_VADER</th>\n",
       "    </tr>\n",
       "  </thead>\n",
       "  <tbody>\n",
       "    <tr>\n",
       "      <th>108243</th>\n",
       "      <td>1507845006</td>\n",
       "      <td>How to Stop Lying: The Ultimate Cure Guide for Pathological Liars and Compulsive Liars (Pathological Lying Disorder, Compulsive Lying Disorder, ASPD, ... Disorder, Psychopathy, Sociopathy)</td>\n",
       "      <td>0.0</td>\n",
       "      <td>1.0</td>\n",
       "      <td>-0.9783</td>\n",
       "    </tr>\n",
       "  </tbody>\n",
       "</table>\n",
       "</div>"
      ],
      "text/plain": [
       "                 0                                                                                                                                                                                             3  sentiment_polarity  sentiment_subjectivity  sentiment_polarity_VADER\n",
       "108243  1507845006  How to Stop Lying: The Ultimate Cure Guide for Pathological Liars and Compulsive Liars (Pathological Lying Disorder, Compulsive Lying Disorder, ASPD, ... Disorder, Psychopathy, Sociopathy)                 0.0                     1.0                   -0.9783"
      ]
     },
     "execution_count": 28,
     "metadata": {},
     "output_type": "execute_result"
    }
   ],
   "source": [
    "df2[(df2.sentiment_polarity_VADER==df2.sentiment_polarity_VADER.min())].head()"
   ]
  },
  {
   "cell_type": "code",
   "execution_count": 29,
   "metadata": {},
   "outputs": [
    {
     "data": {
      "text/html": [
       "<div>\n",
       "<style scoped>\n",
       "    .dataframe tbody tr th:only-of-type {\n",
       "        vertical-align: middle;\n",
       "    }\n",
       "\n",
       "    .dataframe tbody tr th {\n",
       "        vertical-align: top;\n",
       "    }\n",
       "\n",
       "    .dataframe thead th {\n",
       "        text-align: right;\n",
       "    }\n",
       "</style>\n",
       "<table border=\"1\" class=\"dataframe\">\n",
       "  <thead>\n",
       "    <tr style=\"text-align: right;\">\n",
       "      <th></th>\n",
       "      <th>ppn</th>\n",
       "      <th>title</th>\n",
       "      <th>sentiment_polarity</th>\n",
       "      <th>sentiment_subjectivity</th>\n",
       "      <th>sentiment_polarity_VADER</th>\n",
       "    </tr>\n",
       "  </thead>\n",
       "  <tbody>\n",
       "    <tr>\n",
       "      <th>1028725</th>\n",
       "      <td>0733085598</td>\n",
       "      <td>God's dreadful judgments, on wicked and prophane swearers Or, Fair warning to murderers, swearers, or jealous persons of either sex. A full and true account of one John Chambers of the town of Simer in the county of York who was hanged on the 6th...</td>\n",
       "      <td>0.12625</td>\n",
       "      <td>0.624583</td>\n",
       "      <td>-0.9925</td>\n",
       "    </tr>\n",
       "  </tbody>\n",
       "</table>\n",
       "</div>"
      ],
      "text/plain": [
       "                ppn                                                                                                                                                                                                                                                      title  sentiment_polarity  sentiment_subjectivity  sentiment_polarity_VADER\n",
       "1028725  0733085598  God's dreadful judgments, on wicked and prophane swearers Or, Fair warning to murderers, swearers, or jealous persons of either sex. A full and true account of one John Chambers of the town of Simer in the county of York who was hanged on the 6th...             0.12625                0.624583                   -0.9925"
      ]
     },
     "execution_count": 29,
     "metadata": {},
     "output_type": "execute_result"
    }
   ],
   "source": [
    "df3[(df3.sentiment_polarity_VADER==df3.sentiment_polarity_VADER.min())].head()"
   ]
  },
  {
   "cell_type": "markdown",
   "metadata": {},
   "source": [
    "## Conclusion\n",
    "\n",
    "The tutorial illustrates very well that the outcome of a sentiment analysis depends heavily on the used algorithm or methodology. As there are different algorithms available with a varying quality regarding their underlying lexica or ground truths, it is not easy to give a general recommendation which algorithm will serve you best."
   ]
  },
  {
   "cell_type": "code",
   "execution_count": null,
   "metadata": {},
   "outputs": [],
   "source": []
  }
 ],
 "metadata": {
  "kernelspec": {
   "display_name": "Python 3",
   "language": "python",
   "name": "python3"
  },
  "language_info": {
   "codemirror_mode": {
    "name": "ipython",
    "version": 3
   },
   "file_extension": ".py",
   "mimetype": "text/x-python",
   "name": "python",
   "nbconvert_exporter": "python",
   "pygments_lexer": "ipython3",
   "version": "3.6.8"
  }
 },
 "nbformat": 4,
 "nbformat_minor": 2
}
